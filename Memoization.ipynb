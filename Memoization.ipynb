{
 "cells": [
  {
   "cell_type": "markdown",
   "metadata": {},
   "source": [
    "# Memoization\n",
    "- based on the Latin word memorandum, meaning \"to be remembered\" <img src=\"brain.jpg\" width=\"25%\" style=\"float:right\">\n",
    "- similar to word memorization, its a technique used in coding to improve program runtime by memorizing intermediate solutions\n",
    "- if an intermediate results (from some computations) are used over and again, the results can be remembered/stored to avoid unnecessary repeating calculations\n",
    "- using dict type datastructure, one can memoize intermediate results from functions esp. in recurisive solutions"
   ]
  },
  {
   "cell_type": "markdown",
   "metadata": {},
   "source": [
    "## naive recursive fib function"
   ]
  },
  {
   "cell_type": "code",
   "execution_count": null,
   "metadata": {},
   "outputs": [],
   "source": [
    "count = 0\n",
    "def fib(n):\n",
    "    global count\n",
    "    count += 1\n",
    "    if n <= 1:\n",
    "        return 1\n",
    "    f = fib(n-1) + fib(n-2)\n",
    "    return f\n",
    "\n",
    "n=30 #40, 50? takes a while\n",
    "print(\"fib at {}th position = {}\".format(n, fib(n)))\n",
    "print(\"fib function count = {}\".format(count))"
   ]
  },
  {
   "cell_type": "markdown",
   "metadata": {},
   "source": [
    "## theoritical computational complexity\n",
    "- Worst case Big-Oh Time Complexity: O(n) = time to calculate Fib(n-1) + Fib(n-2) + time to add them: O(1)\n",
    "    - T(n) = T(n-1) + T(n-2) + O(1)\n",
    "    - T(n) = O(2<sup>n-1</sup>) + O(2<sup>n-2</sup>) + O(1)\n",
    "    - T(n) = O(2<sup>n</sup>)\n",
    "- Space Complexity = O(n) due to call stack"
   ]
  },
  {
   "cell_type": "markdown",
   "metadata": {},
   "source": [
    "## finding actual time - timeit\n",
    "- timeit - measures execution time of small code snippets\n",
    "- timeit.timeit(stmt='pass', setup='pass', timer=[default timer], number=1000000, globals=None)\n",
    "- returns time in seconds"
   ]
  },
  {
   "cell_type": "code",
   "execution_count": null,
   "metadata": {
    "collapsed": true
   },
   "outputs": [],
   "source": [
    "import timeit\n",
    "help(timeit)"
   ]
  },
  {
   "cell_type": "code",
   "execution_count": null,
   "metadata": {},
   "outputs": [],
   "source": [
    "#print(globals())\n",
    "import timeit\n",
    "print(timeit.timeit('fib(30)', number=1, globals=globals()))"
   ]
  },
  {
   "cell_type": "markdown",
   "metadata": {},
   "source": [
    "## memoized recursive fib function"
   ]
  },
  {
   "cell_type": "code",
   "execution_count": null,
   "metadata": {
    "scrolled": true
   },
   "outputs": [],
   "source": [
    "memo = {}\n",
    "count = 0\n",
    "def MemoizedFib(n):\n",
    "    global memo, count\n",
    "    count += 1\n",
    "    if n <= 1:\n",
    "        return 1\n",
    "    if n in memo:\n",
    "        return memo[n]\n",
    "    memo[n] = MemoizedFib(n-1) + MemoizedFib(n-2)\n",
    "    return memo[n]\n",
    "\n",
    "n=60 #try 40, 50, 60\n",
    "print(\"fib at {}th position = {}\".format(n, MemoizedFib(n)))\n",
    "print(\"fib function count = {}\".format(count))   "
   ]
  },
  {
   "cell_type": "code",
   "execution_count": null,
   "metadata": {},
   "outputs": [],
   "source": [
    "import timeit\n",
    "print(timeit.timeit('MemoizedFib(1000)', number=1, globals=globals()))"
   ]
  },
  {
   "cell_type": "markdown",
   "metadata": {},
   "source": [
    "## computational complexity of memoized fib\n",
    "- Time Complexity - O(n)\n",
    "- Space Complexity - O(n)"
   ]
  },
  {
   "cell_type": "markdown",
   "metadata": {},
   "source": [
    "## exercise\n",
    "- Write a program that finds factorials of a bunch of positive integer numbers? Would memoization improve time complexity of the program? "
   ]
  },
  {
   "cell_type": "code",
   "execution_count": null,
   "metadata": {},
   "outputs": [],
   "source": [
    "# find the factorials of the first 20 positive numbers\n",
    "# optimize the program so it finds the factorials in the \n",
    "# shortest time possible\n",
    "nums = list(range(1, 21))\n",
    "print(nums)"
   ]
  },
  {
   "cell_type": "code",
   "execution_count": null,
   "metadata": {
    "collapsed": true
   },
   "outputs": [],
   "source": []
  }
 ],
 "metadata": {
  "kernelspec": {
   "display_name": "Python 3",
   "language": "python",
   "name": "python3"
  },
  "language_info": {
   "codemirror_mode": {
    "name": "ipython",
    "version": 3
   },
   "file_extension": ".py",
   "mimetype": "text/x-python",
   "name": "python",
   "nbconvert_exporter": "python",
   "pygments_lexer": "ipython3",
   "version": "3.6.1"
  }
 },
 "nbformat": 4,
 "nbformat_minor": 2
}
