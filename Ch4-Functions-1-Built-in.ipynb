{
 "cells": [
  {
   "cell_type": "markdown",
   "metadata": {},
   "source": [
    "## Built-in Functions\n",
    "- built-in we've used so far: type(), int(), float(), str(), input(), ord(), list(), isinstance(), print(), etc.\n",
    "- Python provides a list of built-in functions that are readily available for use:\n",
    "https://docs.python.org/3/library/functions.html\n",
    "- some built-in functions that may be useful to know"
   ]
  },
  {
   "cell_type": "markdown",
   "metadata": {},
   "source": [
    "### bin(x)\n",
    "- converts an integer number to a binary string prefixed with \"0b\"."
   ]
  },
  {
   "cell_type": "code",
   "execution_count": null,
   "metadata": {},
   "outputs": [],
   "source": [
    "bin(3)"
   ]
  },
  {
   "cell_type": "code",
   "execution_count": null,
   "metadata": {},
   "outputs": [],
   "source": [
    "# If prefix \"ob is desired or nor, use either of the following ways\n",
    "print(format(3, '#b'))\n",
    "print(format(3, 'b'))"
   ]
  },
  {
   "cell_type": "markdown",
   "metadata": {},
   "source": [
    "### chr(i)\n",
    "- returns the string representing a character whose Unicode code point is the integer i\n",
    "- inverse of ord(char)"
   ]
  },
  {
   "cell_type": "code",
   "execution_count": null,
   "metadata": {},
   "outputs": [],
   "source": [
    "print(chr(65))\n",
    "print(chr(97))\n",
    "print(chr(8364))"
   ]
  },
  {
   "cell_type": "markdown",
   "metadata": {},
   "source": [
    "### divmod(a, b)\n",
    "- given two non-complex numbers as arguments, return a pair of numbers as tuple consisting of their quotient and remainder using integer division"
   ]
  },
  {
   "cell_type": "code",
   "execution_count": null,
   "metadata": {},
   "outputs": [],
   "source": [
    "print(divmod(7, 3)) # return (quotient, remainder)\n",
    "quotient, remainder = divmod(7, 3)\n",
    "print(quotient, remainder)"
   ]
  },
  {
   "cell_type": "markdown",
   "metadata": {},
   "source": [
    "### enumerate(iterable, start=0)\n",
    "- returns an enumerate object. iterable must be a sequence, an iterator or object that supports iterations"
   ]
  },
  {
   "cell_type": "code",
   "execution_count": null,
   "metadata": {},
   "outputs": [],
   "source": [
    "seasons = ['Spring', 'Summer', 'Fall', 'Winter']\n",
    "print(list(enumerate(seasons)))\n",
    "print(list(enumerate(seasons, start=1)))"
   ]
  },
  {
   "cell_type": "markdown",
   "metadata": {},
   "source": [
    "### eval(expression, globals=None, locals=None)\n",
    "- the expression argument is parsed and evaluated as Python expression\n",
    "- syntax errors reported as exceptions"
   ]
  },
  {
   "cell_type": "code",
   "execution_count": null,
   "metadata": {},
   "outputs": [],
   "source": [
    "x = 2\n",
    "print(eval('x**2'))\n",
    "print(eval('x+2*3'))"
   ]
  },
  {
   "cell_type": "markdown",
   "metadata": {},
   "source": [
    "### globals() and locals()\n",
    "- globals() returns a dictionary representing the current global symbol table\n",
    "- locals() returns a dictionary representing the current local symbol table"
   ]
  },
  {
   "cell_type": "code",
   "execution_count": null,
   "metadata": {},
   "outputs": [],
   "source": [
    "globals()"
   ]
  },
  {
   "cell_type": "markdown",
   "metadata": {},
   "source": [
    "### hex(x)\n",
    "- convert an integer number to a lowercase hexadecimal string prefixed with \"0x\""
   ]
  },
  {
   "cell_type": "code",
   "execution_count": null,
   "metadata": {},
   "outputs": [],
   "source": [
    "print(hex(42))\n",
    "print(hex(-42))"
   ]
  },
  {
   "cell_type": "code",
   "execution_count": null,
   "metadata": {
    "collapsed": true
   },
   "outputs": [],
   "source": [
    "# Other ways\n",
    "format(255, '#x'), format(255, 'x'), format(255, 'X')"
   ]
  },
  {
   "cell_type": "markdown",
   "metadata": {},
   "source": [
    "### id(object)\n",
    "- return the 'identity' of an object\n",
    "- guaranteed unique integer and constant thoughout its lifetime"
   ]
  },
  {
   "cell_type": "code",
   "execution_count": null,
   "metadata": {},
   "outputs": [],
   "source": [
    "id(seasons)"
   ]
  },
  {
   "cell_type": "markdown",
   "metadata": {},
   "source": [
    "### map(function, iterable, ...)\n",
    "- return an iterator that applies function to every item of iterable, yielding the results"
   ]
  },
  {
   "cell_type": "code",
   "execution_count": null,
   "metadata": {},
   "outputs": [],
   "source": [
    "def function(x):\n",
    "    return x**2\n",
    "\n",
    "items = [1, 2, 3, 4, 5]\n",
    "print(list(map(function, items)))"
   ]
  },
  {
   "cell_type": "code",
   "execution_count": null,
   "metadata": {},
   "outputs": [],
   "source": [
    "def function1(x, y):\n",
    "    return x*y\n",
    "\n",
    "multipliers = items[::-1]\n",
    "print('items = ', items)\n",
    "print('multipliers = ', multipliers)\n",
    "#mapping items with multipliers and applying function1 to each pair\n",
    "print(list(map(function1, items, multipliers)))"
   ]
  },
  {
   "cell_type": "markdown",
   "metadata": {},
   "source": [
    "### max(iterable, ...) or max(arg1, arg2, ...), min(), and sum(), pow(base, exp)\n",
    "- max() - returns the largest item in an iterable or the largest of two or more arguments\n",
    "- min() - returns the smallest\n",
    "- sum() - retuns sum of the list of items\n",
    "- pow(base, exp) - returns base to the power exp"
   ]
  },
  {
   "cell_type": "code",
   "execution_count": null,
   "metadata": {},
   "outputs": [],
   "source": [
    "print(max(items))\n",
    "print(max(100, 8.9, 999, 1000.5))\n",
    "print(min(100, 8.9, 999, 1000.5))\n",
    "print('sum of ', items, '=', sum(items))\n",
    "print(sum([1, 2, 3]))\n",
    "print('2 to the power 3 =', pow(2, 3))"
   ]
  },
  {
   "cell_type": "markdown",
   "metadata": {},
   "source": [
    "### oct(x)\n",
    "- return an octal string representation with \"0o\" prefix of a given integer x"
   ]
  },
  {
   "cell_type": "code",
   "execution_count": null,
   "metadata": {},
   "outputs": [],
   "source": [
    "print(oct(100))"
   ]
  },
  {
   "cell_type": "code",
   "execution_count": null,
   "metadata": {},
   "outputs": [],
   "source": [
    "format(10, '#o'), format(10, 'o')"
   ]
  },
  {
   "cell_type": "markdown",
   "metadata": {},
   "source": [
    "### ord(c)\n",
    "- return an integer representing the Unicode code of a given Unicode character"
   ]
  },
  {
   "cell_type": "code",
   "execution_count": null,
   "metadata": {},
   "outputs": [],
   "source": [
    "print(ord(' '))\n",
    "print(ord('~'))"
   ]
  },
  {
   "cell_type": "markdown",
   "metadata": {},
   "source": [
    "### print(*object, sep=' ', end='\\n', file=sys.stdout, flush=False)"
   ]
  },
  {
   "cell_type": "markdown",
   "metadata": {},
   "source": [
    "### range(stop), range(start, stop[, step])\n",
    "- returns an iterator to immutable sequence type"
   ]
  },
  {
   "cell_type": "markdown",
   "metadata": {},
   "source": [
    "## set([iterable])\n",
    "- returns a new set object, optionally with elements taken from iterable\n",
    "- specialized sequence data structure like list and tuple"
   ]
  },
  {
   "cell_type": "code",
   "execution_count": null,
   "metadata": {
    "collapsed": true
   },
   "outputs": [],
   "source": [
    "help(set)"
   ]
  },
  {
   "cell_type": "markdown",
   "metadata": {},
   "source": [
    "### createing set objects"
   ]
  },
  {
   "cell_type": "code",
   "execution_count": null,
   "metadata": {
    "collapsed": true
   },
   "outputs": [],
   "source": [
    "set1 = set()\n",
    "set2 = set([1, 1, 2, 2, 3, 3, 'a', 'a'])"
   ]
  },
  {
   "cell_type": "code",
   "execution_count": null,
   "metadata": {},
   "outputs": [],
   "source": [
    "print(set1)\n",
    "print(set2)"
   ]
  },
  {
   "cell_type": "code",
   "execution_count": null,
   "metadata": {},
   "outputs": [],
   "source": [
    "set1.add(100)\n",
    "set1.add(100)\n",
    "set1.add(10)\n",
    "set1.add(1)\n",
    "print(set1)"
   ]
  },
  {
   "cell_type": "code",
   "execution_count": null,
   "metadata": {},
   "outputs": [],
   "source": [
    "print(set1.intersection(set2))"
   ]
  },
  {
   "cell_type": "code",
   "execution_count": null,
   "metadata": {},
   "outputs": [],
   "source": [
    "print(set1.union(set2))"
   ]
  },
  {
   "cell_type": "markdown",
   "metadata": {},
   "source": [
    "### exercise: practice with other set methods"
   ]
  },
  {
   "cell_type": "markdown",
   "metadata": {},
   "source": [
    "### sorted(iterable, \\*, key=None, reverse=False)\n",
    "- returns a new sorted list from the items in iterable\n",
    "- *key* specifies a function of one argument that is used to extract a comparision key from each list element: key=str.lower\n",
    "- *reverse* if set to True, list elements are sorted if each comparison were reversed"
   ]
  },
  {
   "cell_type": "code",
   "execution_count": null,
   "metadata": {
    "collapsed": true
   },
   "outputs": [],
   "source": [
    "list1 = ['apple', 'Apple', 'ball', 'Ball', 'cat']\n",
    "list1.sort()"
   ]
  },
  {
   "cell_type": "code",
   "execution_count": null,
   "metadata": {},
   "outputs": [],
   "source": [
    "list1"
   ]
  },
  {
   "cell_type": "code",
   "execution_count": null,
   "metadata": {
    "collapsed": true
   },
   "outputs": [],
   "source": [
    "list2 = sorted(list1, key=str.lower)"
   ]
  },
  {
   "cell_type": "code",
   "execution_count": null,
   "metadata": {},
   "outputs": [],
   "source": [
    "print(list1)\n",
    "print(list2)"
   ]
  },
  {
   "cell_type": "code",
   "execution_count": null,
   "metadata": {
    "collapsed": true
   },
   "outputs": [],
   "source": [
    "list3 = [('cat', 10), ('ball', 20), ('apple', 3)] "
   ]
  },
  {
   "cell_type": "code",
   "execution_count": null,
   "metadata": {},
   "outputs": [],
   "source": [
    "list3.sort()\n",
    "print(list3)"
   ]
  },
  {
   "cell_type": "markdown",
   "metadata": {},
   "source": [
    "### sort list of tuples based on 2<sup>nd</sup> value"
   ]
  },
  {
   "cell_type": "code",
   "execution_count": null,
   "metadata": {
    "collapsed": true
   },
   "outputs": [],
   "source": [
    "from operator import itemgetter\n",
    "list4 = sorted(list3, key=itemgetter(1))"
   ]
  },
  {
   "cell_type": "code",
   "execution_count": null,
   "metadata": {},
   "outputs": [],
   "source": [
    "print(list4)"
   ]
  },
  {
   "cell_type": "code",
   "execution_count": null,
   "metadata": {
    "collapsed": true
   },
   "outputs": [],
   "source": [
    "list5 = sorted(list3, key=itemgetter(1), reverse=True)"
   ]
  },
  {
   "cell_type": "code",
   "execution_count": null,
   "metadata": {},
   "outputs": [],
   "source": [
    "list5"
   ]
  },
  {
   "cell_type": "markdown",
   "metadata": {},
   "source": [
    "### write your own key function"
   ]
  },
  {
   "cell_type": "code",
   "execution_count": null,
   "metadata": {
    "collapsed": true
   },
   "outputs": [],
   "source": [
    "def myKey(tup):\n",
    "    return tup[1]\n",
    "\n",
    "list6 = sorted(list3, key=myKey, reverse=True)\n",
    "assert list5 == list6"
   ]
  }
 ],
 "metadata": {
  "kernelspec": {
   "display_name": "Python 3",
   "language": "python",
   "name": "python3"
  },
  "language_info": {
   "codemirror_mode": {
    "name": "ipython",
    "version": 3
   },
   "file_extension": ".py",
   "mimetype": "text/x-python",
   "name": "python",
   "nbconvert_exporter": "python",
   "pygments_lexer": "ipython3",
   "version": "3.6.2"
  }
 },
 "nbformat": 4,
 "nbformat_minor": 2
}
