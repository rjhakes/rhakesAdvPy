{
 "cells": [
  {
   "cell_type": "markdown",
   "metadata": {},
   "source": [
    "# Control Structure\n",
    "## Conditionals\n",
    "Conditional statements controls the flow of codes; makes certail lines to skip or execute based on some conditions; loosely speaking, it helps computer think and make decision.\n",
    "- Boolean values - True or False\n",
    "- Boolean expressions - comparison operators are used to compare values that result in True or False value."
   ]
  },
  {
   "cell_type": "code",
   "execution_count": 1,
   "metadata": {},
   "outputs": [
    {
     "name": "stdout",
     "output_type": "stream",
     "text": [
      "False\n",
      "True\n",
      "False\n",
      "True\n",
      "True\n",
      "False\n"
     ]
    }
   ],
   "source": [
    "# Examples of various comparison operators\n",
    "# x == y True if x is equal to y\n",
    "# x != y True if x is not equal to y\n",
    "# x > y True if x is greater than y\n",
    "# x < y True if x is less than y\n",
    "# x >= y True if x is greater than or equal to y\n",
    "# x <= y True if x is less than or equal to y\n",
    "x = 5\n",
    "y = 10\n",
    "print(x==y)\n",
    "print(x!=y)\n",
    "print(x>y)\n",
    "print(x<y)\n",
    "print(x<=y)\n",
    "print(x>=y)"
   ]
  },
  {
   "cell_type": "markdown",
   "metadata": {},
   "source": [
    "## Logical Operators\n",
    "** and, or, ** and ** not ** -- allow to build more complex boolean expressions <br >\n",
    "**Truth table for *and* ** <br>\n",
    "<pre>\n",
    "a  b  a and b\n",
    "T  T   T\n",
    "T  F   F\n",
    "</pre>\n",
    "\n",
    "**Truth table for *or* ** <br>\n",
    "<pre>\n",
    "a  b  a or b\n",
    "T  T   T\n",
    "T  F   F\n",
    "\n",
    "</pre>\n",
    "Order of Operations Highest to Lowest: <br>\n",
    "http://www.informit.com/articles/article.aspx?p=459269&seqNum=11"
   ]
  },
  {
   "cell_type": "markdown",
   "metadata": {},
   "source": [
    "## Conditional Execution"
   ]
  },
  {
   "cell_type": "raw",
   "metadata": {},
   "source": [
    "One way selector:\n",
    "Syntax:\n",
    "if \"boolean expression evaluates to True\":\n",
    "    # execute this block of code\n",
    "    \n",
    "Two way selector:\n",
    "Syntax:\n",
    "if \"boolean exprn evaluates to True\":\n",
    "    # execute if block\n",
    "else:\n",
    "    # execute else block\n",
    "    \n",
    "Multi way selector:\n",
    "Syntax:\n",
    "if \"True Exprn\":\n",
    "    # do this\n",
    "elif \"True\":\n",
    "    # do this\n",
    "...\n",
    "...\n",
    "else:\n",
    "    # do this\n",
    "\n",
    "- Nested conditionals"
   ]
  },
  {
   "cell_type": "markdown",
   "metadata": {},
   "source": [
    "## Exercises\n",
    "1. Write a program to test whether a given whole number is even, odd or zero"
   ]
  },
  {
   "cell_type": "code",
   "execution_count": null,
   "metadata": {
    "collapsed": true
   },
   "outputs": [],
   "source": [
    "x = input('Enter a whole number:' )\n",
    "x = int(x)\n",
    "if x == 0:\n",
    "    print(x, 'is zero')\n",
    "elif x%2 == 0:\n",
    "    print(x, 'is even')\n",
    "else:\n",
    "    print(x, 'is odd')"
   ]
  },
  {
   "cell_type": "markdown",
   "metadata": {
    "collapsed": true
   },
   "source": [
    "2. Improve the above program to tell whether the given whole number is positive or negative."
   ]
  },
  {
   "cell_type": "markdown",
   "metadata": {},
   "source": [
    "3. Write a program that determines whether someone is eligible to vote in the US federal election."
   ]
  },
  {
   "cell_type": "markdown",
   "metadata": {},
   "source": [
    "4. Write a program that helps someone decide where to go eat lunch depending on amount of money one has in their pocket."
   ]
  },
  {
   "cell_type": "markdown",
   "metadata": {},
   "source": [
    "5. Given a day of week as integer (say 1 for Sunday) write a program that tells whether that day is weekend, or weekday and the actual name of the day."
   ]
  },
  {
   "cell_type": "code",
   "execution_count": null,
   "metadata": {},
   "outputs": [],
   "source": []
  }
 ],
 "metadata": {
  "kernelspec": {
   "display_name": "Python 3",
   "language": "python",
   "name": "python3"
  },
  "language_info": {
   "codemirror_mode": {
    "name": "ipython",
    "version": 3
   },
   "file_extension": ".py",
   "mimetype": "text/x-python",
   "name": "python",
   "nbconvert_exporter": "python",
   "pygments_lexer": "ipython3",
   "version": "3.6.2"
  }
 },
 "nbformat": 4,
 "nbformat_minor": 2
}
