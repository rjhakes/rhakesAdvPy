{
 "cells": [
  {
   "cell_type": "markdown",
   "metadata": {},
   "source": [
    "# Functions\n",
    "- named sequence of statements that execute together to solve some task \n",
    "- primary purpose is to help us break the problem into smaller sub-problems or tasks\n",
    "- two types: fruitful and void/fruitless functions\n",
    "- must be defined before it can be used\n",
    "- syntax for a function definition:\n",
    "<pre>\n",
    "def NAME( <em>OPT-PARAMETERS</em> ):\n",
    "    STATEMENTS\n",
    "    <em>return Value(s)</em>\n",
    "</pre>\n",
    "- <em>optional</em>\n",
    "- function NAME follows the same rules as a variable/identifier name\n",
    "- some built-in functions and object methods have been used..."
   ]
  },
  {
   "cell_type": "markdown",
   "metadata": {},
   "source": [
    "## why functions?\n",
    "** dividing a program into functions have several advantages: **\n",
    "- give you an opportunity to name a group of statements, which makes your program easier to read and debug\n",
    "- can make a program smaller by eliminating repetitive code. Later, if you make a change, you only have to make it in one place\n",
    "- allow you to debug the parts one at a time (in a team) and then assemble them into a working whole\n",
    "- write once, test, share, and reuse many times (libraries, e.g.)\n"
   ]
  },
  {
   "cell_type": "code",
   "execution_count": null,
   "metadata": {
    "collapsed": true,
    "scrolled": true
   },
   "outputs": [],
   "source": [
    "# Function definition\n",
    "# void function; returns None by default\n",
    "def greet():\n",
    "    print('Hello World!')"
   ]
  },
  {
   "cell_type": "code",
   "execution_count": null,
   "metadata": {
    "scrolled": true
   },
   "outputs": [],
   "source": [
    "# Function call\n",
    "greet()"
   ]
  },
  {
   "cell_type": "code",
   "execution_count": null,
   "metadata": {
    "scrolled": true
   },
   "outputs": [],
   "source": [
    "a = greet() # returned value\n",
    "print(a)"
   ]
  },
  {
   "cell_type": "code",
   "execution_count": null,
   "metadata": {
    "scrolled": true
   },
   "outputs": [],
   "source": [
    "type(greet)"
   ]
  },
  {
   "cell_type": "code",
   "execution_count": null,
   "metadata": {
    "scrolled": true
   },
   "outputs": [],
   "source": [
    "# function can be assigned to a variable\n",
    "myfunc = greet\n",
    "type(myfunc)"
   ]
  },
  {
   "cell_type": "code",
   "execution_count": null,
   "metadata": {
    "scrolled": true
   },
   "outputs": [],
   "source": [
    "myfunc()"
   ]
  },
  {
   "cell_type": "markdown",
   "metadata": {},
   "source": [
    "## passing data to functions as arguments/parameters"
   ]
  },
  {
   "cell_type": "code",
   "execution_count": null,
   "metadata": {
    "collapsed": true,
    "scrolled": true
   },
   "outputs": [],
   "source": [
    "def greet(name):\n",
    "    print('Hello {0}'.format(name))"
   ]
  },
  {
   "cell_type": "code",
   "execution_count": null,
   "metadata": {
    "scrolled": true
   },
   "outputs": [],
   "source": [
    "greet() # How to fix? provide either default value or call it properly"
   ]
  },
  {
   "cell_type": "code",
   "execution_count": null,
   "metadata": {
    "collapsed": true,
    "scrolled": true
   },
   "outputs": [],
   "source": [
    "def greet(name=\"Anonymous\"):\n",
    "    print('Hello {0}'.format(name))"
   ]
  },
  {
   "cell_type": "code",
   "execution_count": null,
   "metadata": {
    "scrolled": true
   },
   "outputs": [],
   "source": [
    "greet()"
   ]
  },
  {
   "cell_type": "code",
   "execution_count": null,
   "metadata": {
    "scrolled": false
   },
   "outputs": [],
   "source": [
    "greet('John')\n",
    "user = input('Enter your name: ')\n",
    "greet(user)"
   ]
  },
  {
   "cell_type": "markdown",
   "metadata": {},
   "source": [
    "### arguments are local to functions"
   ]
  },
  {
   "cell_type": "code",
   "execution_count": null,
   "metadata": {
    "scrolled": true
   },
   "outputs": [],
   "source": [
    "print(name)"
   ]
  },
  {
   "cell_type": "markdown",
   "metadata": {},
   "source": [
    "### variable length arguments\n",
    "- *args (non-keyworded variable length arguments)\n",
    "- *kwargs (keyworded variable length arguments)\n",
    "- use when not sure how many arguments will be passed to the function"
   ]
  },
  {
   "cell_type": "code",
   "execution_count": null,
   "metadata": {},
   "outputs": [],
   "source": [
    "# global and local scope demos with various ways to pass arguments\n",
    "var1 = \"Alice\" #global\n",
    "def myFunc(a, b, c, *args, **kwargs):\n",
    "    global var1\n",
    "    var1 = \"Bob\" # global or local? How can we access global var1?\n",
    "    var2 = \"John\"\n",
    "    print('var1 = ', var1)\n",
    "    print('var2 = ', var2)\n",
    "    print('a = ', a)\n",
    "    print('b = ', b)\n",
    "    print('c = ', c)\n",
    "    print('*args = ', args)\n",
    "    print('type of args = ', type(args))\n",
    "    print('**kwargs = ', kwargs)\n",
    "    print('type of kwargs = ', type(kwargs))\n",
    "\n",
    "myFunc(1, 'Apple', 4.5, 5, [2.5, 'b'], fname='Jake', num=1)\n",
    "print(var1)"
   ]
  },
  {
   "cell_type": "markdown",
   "metadata": {},
   "source": [
    "### visualize variables' scope using pythontutor:\n",
    "http://pythontutor.com/visualize.html#code=var1%20%3D%20%22Alice%22%0Adef%20myFunc%28a,%20b,%20c,%20*args,%20**kwargs%29%3A%0A%20%20%20%20var1%20%3D%20%22Bob%22%0A%20%20%20%20var2%20%3D%20%22John%22%0A%0AmyFunc%281,%20'Apple',%204.5,%205,%20%5B2.5,%20'b'%5D,%20fname%3D'Jake',%20num%3D1%29%0Aprint%28var1%29&cumulative=false&curInstr=0&heapPrimitives=false&mode=display&origin=opt-frontend.js&py=3&rawInputLstJSON=%5B%5D&textReferences=false"
   ]
  },
  {
   "cell_type": "code",
   "execution_count": null,
   "metadata": {
    "scrolled": true
   },
   "outputs": [],
   "source": [
    "from IPython.display import IFrame\n",
    "src = \"\"\"\n",
    "http://pythontutor.com/iframe-embed.html#code=var1%20%3D%20%22Alice%22%0Adef%20myFunc%28a,%20b,%20c,%20*args,%20**kwargs%29%3A%0A%20%20%20%20var1%20%3D%20%22Bob%22%0A%20%20%20%20var2%20%3D%20%22John%22%0A%0AmyFunc%281,%20'Apple',%204.5,%205,%20%5B2.5,%20'b'%5D,%20fname%3D'Jake',%20num%3D1%29%0Aprint%28var1%29&codeDivHeight=400&codeDivWidth=350&cumulative=false&curInstr=0&heapPrimitives=false&origin=opt-frontend.js&py=3&rawInputLstJSON=%5B%5D&textReferences=false\n",
    "\"\"\"\n",
    "IFrame(src, width=900, height=400)"
   ]
  },
  {
   "cell_type": "markdown",
   "metadata": {},
   "source": [
    "## fruitful functions\n",
    "- functions that return some value(s)"
   ]
  },
  {
   "cell_type": "code",
   "execution_count": null,
   "metadata": {
    "collapsed": true,
    "scrolled": true
   },
   "outputs": [],
   "source": [
    "# complete the following function\n",
    "def isPrime(num):\n",
    "    import math\n",
    "    \"\"\"\n",
    "    Function takes a positive interger number.\n",
    "    Returns True if num is prime, False otherwise.\n",
    "    \"\"\"\n",
    "    i = 2\n",
    "    while i < math.ceil(math.sqrt(num)):\n",
    "        if num % i == 0:\n",
    "            return False\n",
    "        i += 1\n",
    "    return True\n",
    "    #pass"
   ]
  },
  {
   "cell_type": "code",
   "execution_count": null,
   "metadata": {
    "scrolled": true
   },
   "outputs": [],
   "source": [
    "help(isPrime)"
   ]
  },
  {
   "cell_type": "markdown",
   "metadata": {},
   "source": [
    "## assert statement for automated testing\n",
    " - each assertion must be True to continue\n",
    " - if assertion fails, throws AssertionError exception"
   ]
  },
  {
   "cell_type": "code",
   "execution_count": null,
   "metadata": {
    "collapsed": true
   },
   "outputs": [],
   "source": [
    "# test isPrime function\n",
    "assert isPrime(2) == True\n",
    "assert isPrime(5) == True\n",
    "assert isPrime(10) != True"
   ]
  },
  {
   "cell_type": "markdown",
   "metadata": {},
   "source": [
    "### functions can return more than 1 values"
   ]
  },
  {
   "cell_type": "code",
   "execution_count": null,
   "metadata": {
    "collapsed": true,
    "scrolled": true
   },
   "outputs": [],
   "source": [
    "def getAreaAndPerimeter(length, width):\n",
    "    \"\"\"\n",
    "    Function takes length and width of a rectangle.\n",
    "    Finds and returns area and perimeter of the rectangle.\n",
    "    \"\"\"\n",
    "    return length*width, 2*(length+width)\n",
    "    #pass"
   ]
  },
  {
   "cell_type": "markdown",
   "metadata": {
    "collapsed": true,
    "scrolled": true
   },
   "source": [
    "## passing immutable objects as arguments to functions"
   ]
  },
  {
   "cell_type": "code",
   "execution_count": null,
   "metadata": {},
   "outputs": [],
   "source": [
    "var1 = 'John'\n",
    "def greetSomeone(arg1):\n",
    "    arg1 = 'Jake'\n",
    "    print('hello ', arg1)\n",
    "greetSomeone(var1)\n",
    "print('var1 = ', var1)"
   ]
  },
  {
   "cell_type": "markdown",
   "metadata": {},
   "source": [
    "## visualize pass-by-value\n",
    "- http://pythontutor.com/visualize.html#code=var1%20%3D%20'John'%0Adef%20greet%28arg1%29%3A%0A%20%20%20%20arg1%20%3D%20'Jake'%0A%20%20%20%20print%28'hello%20',%20arg1%29%0Agreet%28var1%29%0Aprint%28'var1%20%3D%20',%20var1%29&cumulative=false&curInstr=0&heapPrimitives=false&mode=display&origin=opt-frontend.js&py=3&rawInputLstJSON=%5B%5D&textReferences=false"
   ]
  },
  {
   "cell_type": "code",
   "execution_count": null,
   "metadata": {},
   "outputs": [],
   "source": [
    "from IPython.display import IFrame\n",
    "src = \"\"\"\n",
    "http://pythontutor.com/iframe-embed.html#code=var1%20%3D%20'John'%0Adef%20greet%28arg1%29%3A%0A%20%20%20%20arg1%20%3D%20'Jake'%0A%20%20%20%20print%28'hello%20',%20arg1%29%0Agreet%28var1%29%0Aprint%28'var1%20%3D%20',%20var1%29&codeDivHeight=400&codeDivWidth=350&cumulative=false&curInstr=0&heapPrimitives=false&origin=opt-frontend.js&py=3&rawInputLstJSON=%5B%5D&textReferences=false\n",
    "\"\"\"\n",
    "IFrame(src, width=900, height=300)"
   ]
  },
  {
   "cell_type": "markdown",
   "metadata": {},
   "source": [
    "## passing mutable objects as arguments to functions"
   ]
  },
  {
   "cell_type": "code",
   "execution_count": null,
   "metadata": {},
   "outputs": [],
   "source": [
    "list1 = list(range(1, 6))\n",
    "def squared(alist):\n",
    "    for i in range(len(alist)):\n",
    "        alist[i] **= 2\n",
    "    print(alist)\n",
    "squared(list1)\n",
    "print('list1 = ', list1)\n",
    "        "
   ]
  },
  {
   "cell_type": "markdown",
   "metadata": {},
   "source": [
    "## visualize pass-by-reference\n",
    "- http://pythontutor.com/visualize.html#code=list1%20%3D%20list%28range%281,%206%29%29%0Adef%20squared%28alist%29%3A%0A%20%20%20%20for%20i%20in%20range%28len%28alist%29%29%3A%0A%20%20%20%20%20%20%20%20alist%5Bi%5D%20**%3D%202%0A%20%20%20%20print%28alist%29%0Asquared%28list1%29%0Aprint%28'list%20%3D%20',%20list1%29&cumulative=false&curInstr=0&heapPrimitives=false&mode=display&origin=opt-frontend.js&py=3&rawInputLstJSON=%5B%5D&textReferences=false"
   ]
  },
  {
   "cell_type": "code",
   "execution_count": null,
   "metadata": {},
   "outputs": [],
   "source": [
    "from IPython.display import IFrame\n",
    "src = \"\"\"\n",
    "http://pythontutor.com/iframe-embed.html#code=list1%20%3D%20list%28range%281,%206%29%29%0Adef%20squared%28alist%29%3A%0A%20%20%20%20for%20i%20in%20range%28len%28alist%29%29%3A%0A%20%20%20%20%20%20%20%20alist%5Bi%5D%20**%3D%202%0A%20%20%20%20print%28alist%29%0Asquared%28list1%29%0Aprint%28'list%20%3D%20',%20list1%29&codeDivHeight=400&codeDivWidth=350&cumulative=false&curInstr=0&heapPrimitives=false&origin=opt-frontend.js&py=3&rawInputLstJSON=%5B%5D&textReferences=false\n",
    "\"\"\"\n",
    "IFrame(src, width=900, height=300)"
   ]
  },
  {
   "cell_type": "markdown",
   "metadata": {},
   "source": [
    "## pass function as an argument"
   ]
  },
  {
   "cell_type": "code",
   "execution_count": null,
   "metadata": {},
   "outputs": [],
   "source": [
    "def func1(func):\n",
    "    assert callable(func) == True\n",
    "    func('John')\n",
    "\n",
    "func1(greetSomeone)"
   ]
  },
  {
   "cell_type": "code",
   "execution_count": null,
   "metadata": {
    "collapsed": true
   },
   "outputs": [],
   "source": [
    "func1(\"yada\")"
   ]
  },
  {
   "cell_type": "markdown",
   "metadata": {},
   "source": [
    "## Exercises"
   ]
  },
  {
   "cell_type": "markdown",
   "metadata": {},
   "source": [
    "### exercise 1\n",
    "<pre>\n",
    "Write a function day_name that converts an integer number 0 to 6 into the name of a day. Assume day 0 is “Sunday”. Once again, return None if the arguments to the function are not valid. Here are some tests that should pass:\n",
    "\n",
    "\n",
    "assert day_name(3) == \"Wednesday\"\n",
    "assert day_name(6) == \"Saturday\"\n",
    "assert day_name(42) == None\n",
    "</pre>"
   ]
  },
  {
   "cell_type": "markdown",
   "metadata": {},
   "source": [
    "### exercise 2\n",
    "<pre>\n",
    "Write a function that helps answer questions like ‘“Today is Wednesday. I leave on holiday in 19 days time. What day will that be?”’ So the function must take a day name and a delta argument — the number of days to add — and should return the resulting day name.\n",
    "\n",
    "Here are some tests that should pass:\n",
    "assert day_add(\"Monday\", 4) ==  \"Friday\"\n",
    "assert day_add(\"Tuesday\", 0) == \"Tuesday\"\n",
    "assert day_add(\"Tuesday\", 14) == \"Tuesday\"\n",
    "assert day_add(\"Sunday\", 100) == \"Tuesday\"\n",
    "assert day_add(\"Sunday\", -1) == \"Saturday\"\n",
    "assert day_add(\"Sunday\", -7) == \"Sunday\"\n",
    "assert day_add(\"Tuesday\", -100) == \"Sunday\"\n",
    "</pre>"
   ]
  },
  {
   "cell_type": "markdown",
   "metadata": {},
   "source": [
    "### exercise 3\n",
    "<pre>\n",
    "Write a function that converts seconds to hours, minutes and seconds. Function then returns the values in HH:MM:SS format (e.g., 01:09:10)\n",
    "\n",
    "Here are some tests that should pass:\n",
    "assert get_time(3666) == '01:01:06'\n",
    "assert get_time(36610) == '10:10:10'\n",
    "</pre>"
   ]
  },
  {
   "cell_type": "markdown",
   "metadata": {},
   "source": [
    "### exercise 4\n",
    "<pre>\n",
    "Write a function called hypotenuse that returns the length of the hypotenuse of a right triangle given the lengths of the two legs as parameters:\n",
    "\n",
    "assert hypotenuse(3, 4) == 5.0\n",
    "assert hypotenuse(12, 5) == 13.0\n",
    "assert hypotenuse(24, 7) == 25.0\n",
    "assert hypotenuse(9, 12) == 15.0\n",
    "</pre>"
   ]
  },
  {
   "cell_type": "markdown",
   "metadata": {},
   "source": [
    "### exercise 5\n",
    "<pre>\n",
    "Write a function slope(x1, y1, x2, y2) that returns the slope of the line through the points (x1, y1) and (x2, y2). Be sure your implementation of slope can pass the following tests:\n",
    "\n",
    "assert slope(5, 3, 4, 2) == 1.0\n",
    "assert slope(1, 2, 3, 2) == 0.0\n",
    "assert slope(1, 2, 3, 3) == 0.5\n",
    "assert slope(2, 4, 1, 2) == 2.0\n",
    "\n",
    "Then use a call to slope in a new function named intercept(x1, y1, x2, y2) that returns the y-intercept of the line through the points (x1, y1) and (x2, y2)\n",
    "\n",
    "assert intercept(1, 6, 3, 12) == 3.0\n",
    "assert intercept(6, 1, 1, 6) == 7.0\n",
    "assert intercept(4, 6, 12, 8) == 5.0\n",
    "</pre>"
   ]
  },
  {
   "cell_type": "code",
   "execution_count": null,
   "metadata": {
    "collapsed": true
   },
   "outputs": [],
   "source": []
  }
 ],
 "metadata": {
  "kernelspec": {
   "display_name": "Python 3",
   "language": "python",
   "name": "python3"
  },
  "language_info": {
   "codemirror_mode": {
    "name": "ipython",
    "version": 3
   },
   "file_extension": ".py",
   "mimetype": "text/x-python",
   "name": "python",
   "nbconvert_exporter": "python",
   "pygments_lexer": "ipython3",
   "version": "3.6.2"
  }
 },
 "nbformat": 4,
 "nbformat_minor": 2
}
